{
 "cells": [
  {
   "cell_type": "markdown",
   "metadata": {},
   "source": [
    "# While Loops, Break and Continue - Lab"
   ]
  },
  {
   "cell_type": "markdown",
   "metadata": {},
   "source": [
    "## Introduction\n",
    "In this lab, we will practice using `while` loops, and `break` and `continue` statements in our code. We will use our control flow statements to iterate through collections and filter out or selectively operate on each element. We'll use `while` loops to perform operations until a given condition is no longer true."
   ]
  },
  {
   "cell_type": "markdown",
   "metadata": {},
   "source": [
    "## Objectives\n",
    "You will be able to:\n",
    "* Use a break and continue statements inside a loop\n",
    "* Understand, explain and use while loops"
   ]
  },
  {
   "cell_type": "markdown",
   "metadata": {},
   "source": [
    "## Instructions\n",
    "\n",
    "### While Loops\n",
    "Use while loops to perform the below operations and get the expected return values"
   ]
  },
  {
   "cell_type": "code",
   "execution_count": 6,
   "metadata": {},
   "outputs": [
    {
     "name": "stdout",
     "output_type": "stream",
     "text": [
      "Slices Eaten:  0     Slices Remaining:  6\n",
      "Slices Eaten:  1     Slices Remaining:  5\n",
      "Slices Eaten:  2     Slices Remaining:  4\n",
      "Slices Eaten:  3     Slices Remaining:  3\n",
      "Slices Eaten:  4     Slices Remaining:  2\n",
      "Slices Eaten:  5     Slices Remaining:  1\n",
      "Slices Eaten:  6     Slices Remaining:  0\n"
     ]
    }
   ],
   "source": [
    "slices_of_pie = 6\n",
    "slices_eaten = 0\n",
    "while slices_of_pie >= 0: \n",
    "    print(\"Slices Eaten: \", slices_eaten, \"    Slices Remaining: \", slices_of_pie)\n",
    "    slices_eaten += 1\n",
    "    slices_of_pie -= 1 # use a while loop to eat each slice of pie\n",
    "# add each slice to the slices_eaten variable"
   ]
  },
  {
   "cell_type": "code",
   "execution_count": 9,
   "metadata": {},
   "outputs": [
    {
     "name": "stdout",
     "output_type": "stream",
     "text": [
      "Number of Pancakes Cooked:  0.5 Time Remaining:  1441\n",
      "Number of Pancakes Cooked:  1.0 Time Remaining:  1414\n",
      "Number of Pancakes Cooked:  1.5 Time Remaining:  1387\n",
      "Number of Pancakes Cooked:  2.0 Time Remaining:  1360\n",
      "Number of Pancakes Cooked:  2.5 Time Remaining:  1333\n",
      "Number of Pancakes Cooked:  3.0 Time Remaining:  1306\n",
      "Number of Pancakes Cooked:  3.5 Time Remaining:  1279\n",
      "Number of Pancakes Cooked:  4.0 Time Remaining:  1252\n",
      "Number of Pancakes Cooked:  4.5 Time Remaining:  1225\n",
      "Number of Pancakes Cooked:  5.0 Time Remaining:  1198\n",
      "Number of Pancakes Cooked:  5.5 Time Remaining:  1171\n",
      "Number of Pancakes Cooked:  6.0 Time Remaining:  1144\n",
      "Number of Pancakes Cooked:  6.5 Time Remaining:  1117\n",
      "Number of Pancakes Cooked:  7.0 Time Remaining:  1090\n",
      "Number of Pancakes Cooked:  7.5 Time Remaining:  1063\n",
      "Number of Pancakes Cooked:  8.0 Time Remaining:  1036\n",
      "Number of Pancakes Cooked:  8.5 Time Remaining:  1009\n",
      "Number of Pancakes Cooked:  9.0 Time Remaining:  982\n",
      "Number of Pancakes Cooked:  9.5 Time Remaining:  955\n",
      "Number of Pancakes Cooked:  10.0 Time Remaining:  928\n",
      "Number of Pancakes Cooked:  10.5 Time Remaining:  901\n",
      "Number of Pancakes Cooked:  11.0 Time Remaining:  874\n",
      "Number of Pancakes Cooked:  11.5 Time Remaining:  847\n",
      "Number of Pancakes Cooked:  12.0 Time Remaining:  820\n",
      "Number of Pancakes Cooked:  12.5 Time Remaining:  793\n",
      "Number of Pancakes Cooked:  13.0 Time Remaining:  766\n",
      "Number of Pancakes Cooked:  13.5 Time Remaining:  739\n",
      "Number of Pancakes Cooked:  14.0 Time Remaining:  712\n",
      "Number of Pancakes Cooked:  14.5 Time Remaining:  685\n",
      "Number of Pancakes Cooked:  15.0 Time Remaining:  658\n",
      "Number of Pancakes Cooked:  15.5 Time Remaining:  631\n",
      "Number of Pancakes Cooked:  16.0 Time Remaining:  604\n",
      "Number of Pancakes Cooked:  16.5 Time Remaining:  577\n",
      "Number of Pancakes Cooked:  17.0 Time Remaining:  550\n",
      "Number of Pancakes Cooked:  17.5 Time Remaining:  523\n",
      "Number of Pancakes Cooked:  18.0 Time Remaining:  496\n",
      "Number of Pancakes Cooked:  18.5 Time Remaining:  469\n",
      "Number of Pancakes Cooked:  19.0 Time Remaining:  442\n",
      "Number of Pancakes Cooked:  19.5 Time Remaining:  415\n",
      "Number of Pancakes Cooked:  20.0 Time Remaining:  388\n",
      "Number of Pancakes Cooked:  20.5 Time Remaining:  361\n",
      "Number of Pancakes Cooked:  21.0 Time Remaining:  334\n",
      "Number of Pancakes Cooked:  21.5 Time Remaining:  307\n",
      "Number of Pancakes Cooked:  22.0 Time Remaining:  280\n",
      "Number of Pancakes Cooked:  22.5 Time Remaining:  253\n",
      "Number of Pancakes Cooked:  23.0 Time Remaining:  226\n",
      "Number of Pancakes Cooked:  23.5 Time Remaining:  199\n",
      "Number of Pancakes Cooked:  24.0 Time Remaining:  172\n",
      "Number of Pancakes Cooked:  24.5 Time Remaining:  145\n",
      "Number of Pancakes Cooked:  25.0 Time Remaining:  118\n",
      "Number of Pancakes Cooked:  25.5 Time Remaining:  91\n",
      "Number of Pancakes Cooked:  26.0 Time Remaining:  64\n",
      "Number of Pancakes Cooked:  26.5 Time Remaining:  37\n",
      "Number of Pancakes Cooked:  27.0 Time Remaining:  10\n",
      "Number of Pancakes Cooked:  27.5 Time Remaining:  -17\n"
     ]
    }
   ],
   "source": [
    "time_for_breakfast = 1468 # in seconds\n",
    "number_of_cooked_pancakes = 0\n",
    "while time_for_breakfast >= 0:\n",
    "    time_for_breakfast -= 27 #seconds\n",
    "    number_of_cooked_pancakes += 0.5\n",
    "    print(\"Number of Pancakes Cooked: \", number_of_cooked_pancakes, \"Time Remaining: \", time_for_breakfast)\n",
    "\n",
    "# use a while loop to make yourself 5 pancakes for breakfast\n",
    "# each pancake takes 27 seconds to cook on each side\n",
    "# you must decrease the time_for_breakfast each time you \n",
    "# add a pancake to the skillet or flip a pancake (i.e. 2 times per pancake)\n",
    "# there is only room for one pancake at a time"
   ]
  },
  {
   "cell_type": "markdown",
   "metadata": {},
   "source": [
    "> **Hint:** You may find the [remove method](https://www.programiz.com/python-programming/methods/list/remove) to be useful for the next problem"
   ]
  },
  {
   "cell_type": "code",
   "execution_count": 4,
   "metadata": {},
   "outputs": [
    {
     "ename": "SyntaxError",
     "evalue": "invalid syntax (<ipython-input-4-787668d7cc37>, line 5)",
     "output_type": "error",
     "traceback": [
      "\u001b[0;36m  File \u001b[0;32m\"<ipython-input-4-787668d7cc37>\"\u001b[0;36m, line \u001b[0;32m5\u001b[0m\n\u001b[0;31m    if i % 2 == 0\u001b[0m\n\u001b[0m                 ^\u001b[0m\n\u001b[0;31mSyntaxError\u001b[0m\u001b[0;31m:\u001b[0m invalid syntax\n"
     ]
    }
   ],
   "source": [
    "line_of_hungry_patrons = list(range(0,30))\n",
    "fed_patrons = []\n",
    "while len(line_of_hungry_patrons) >= 0:\n",
    "    for i in line_of_hungry_patrons:\n",
    "        if i % 2 == 0\n",
    "        fed_patrons.append(i)\n",
    "        line_of_hungry_patrons.remove(i)\n",
    "        continue\n",
    "print(line_of_hungry_patrons)\n",
    "print(fed_patrons)\n",
    "# use a while loop to to feed the hungry patrons who have an even number\n",
    "# add the patrons with an even number to the fed_patrons list\n",
    "# then remove the even numbered patrons from the line_of_hungry_patrons\n",
    "# each list should contain 15 elements"
   ]
  },
  {
   "cell_type": "markdown",
   "metadata": {},
   "source": [
    "### `break` And `continue` Statements"
   ]
  },
  {
   "cell_type": "markdown",
   "metadata": {},
   "source": [
    "We have a list of person objects with all kinds of attributes. We'll use loops to find a person that meets a certain requirement that we are looking for or create new lists with a certain subset of elements. Write for loops with conditional statements in conjunction with `break` and `continue` to get the desired output."
   ]
  },
  {
   "cell_type": "code",
   "execution_count": null,
   "metadata": {},
   "outputs": [],
   "source": [
    "people = [\n",
    "    {'name': \"Daniel\", 'age': 29, 'job': \"Engineer\", 'pet': \"Cat\", 'pet_name': \"Gato\"}, \n",
    "    {'name': \"Katie\", 'age': 30, 'job': \"Teacher\", 'pet': \"Dog\", 'pet_name': \"Frank\"},\n",
    "    {'name': \"Owen\", 'age': 26, 'job': \"Sales person\", 'pet': \"Cat\", 'pet_name': \"Cosmo\"},\n",
    "    {'name': \"Josh\", 'age': 22, 'job': \"Student\", 'pet': \"Cat\", 'pet_name': \"Chat\"},\n",
    "    {'name': \"Estelle\", 'age': 35, 'job': \"French Diplomat\", 'pet': \"Dog\", 'pet_name': \"Gabby\"},\n",
    "    {'name': \"Gustav\", 'age': 24, 'job': \"Brewer\", 'pet': \"Dog\", 'pet_name': \"Helen\"}\n",
    "]"
   ]
  },
  {
   "cell_type": "code",
   "execution_count": null,
   "metadata": {},
   "outputs": [],
   "source": [
    "# use the for loop below to find the *first* person in the list of people that has a dog as their pet\n",
    "# the iteration count shouldn't exceed 2 iterations\n",
    "first_dog_person = None\n",
    "iteration_count = 0\n",
    "for person in people:\n",
    "    iteration_count += 1\n",
    "    pass"
   ]
  },
  {
   "cell_type": "code",
   "execution_count": null,
   "metadata": {},
   "outputs": [],
   "source": [
    "# use a for loop to create a list of the cat owners who are under the age of 28\n",
    "# remember to use break and continue to make your code more efficient\n",
    "cat_owners = None\n",
    "# for loop goes here"
   ]
  },
  {
   "cell_type": "code",
   "execution_count": null,
   "metadata": {},
   "outputs": [],
   "source": [
    "# use a for loop to find the first person who is above 29 years old in our list of people\n",
    "# remember to use a break and or continue statement\n",
    "thirty_something_yr_old = None\n",
    "# for loop goes here"
   ]
  },
  {
   "cell_type": "code",
   "execution_count": null,
   "metadata": {},
   "outputs": [],
   "source": [
    "# use a for loop to create a list of person names and another list of pet names for all dog owners\n",
    "# remember to use break and or continue statements\n",
    "dog_owner_names = None\n",
    "dog_names = None\n",
    "# for loop goes here"
   ]
  },
  {
   "cell_type": "code",
   "execution_count": null,
   "metadata": {},
   "outputs": [],
   "source": [
    "# use a for loop to create a list of person names and another list of pet names for all cat owners this time\n",
    "# remember to use break and or continue statements\n",
    "cat_owner_names = None\n",
    "cat_names = None\n",
    "# for loop goes here"
   ]
  },
  {
   "cell_type": "code",
   "execution_count": null,
   "metadata": {},
   "outputs": [],
   "source": [
    "# use a for loop to create a list of odd numbers from the list of numbers from 0 to 100\n",
    "# each time there is an odd number, add 10 to it and append it to the list_of_odd_numbers_plus_ten\n",
    "# stop adding numbers to the list when there are 35 numbers\n",
    "# use break and continue statements in your code\n",
    "list_of_numbers = list(range(0,100))\n",
    "list_of_odd_numbers_plus_ten = []\n",
    "for number in list_of_numbers:\n",
    "    pass"
   ]
  },
  {
   "cell_type": "markdown",
   "metadata": {},
   "source": [
    "## Summary"
   ]
  },
  {
   "cell_type": "markdown",
   "metadata": {},
   "source": [
    "In this lab, we practiced using while loops, which continue executing their block of code until the given condition is no longer truthy. This is useful for instances where we do not have a collection or do not need a collection to solve our problem, especially when we would only like to stop the process according to a certain condition. We then practiced using control flow statements, `break` and `continue`, to selectively operate on elements, append them to new lists, or assign them to new variables."
   ]
  }
 ],
 "metadata": {
  "kernelspec": {
   "display_name": "Python 3",
   "language": "python",
   "name": "python3"
  },
  "language_info": {
   "codemirror_mode": {
    "name": "ipython",
    "version": 3
   },
   "file_extension": ".py",
   "mimetype": "text/x-python",
   "name": "python",
   "nbconvert_exporter": "python",
   "pygments_lexer": "ipython3",
   "version": "3.6.4"
  }
 },
 "nbformat": 4,
 "nbformat_minor": 2
}
